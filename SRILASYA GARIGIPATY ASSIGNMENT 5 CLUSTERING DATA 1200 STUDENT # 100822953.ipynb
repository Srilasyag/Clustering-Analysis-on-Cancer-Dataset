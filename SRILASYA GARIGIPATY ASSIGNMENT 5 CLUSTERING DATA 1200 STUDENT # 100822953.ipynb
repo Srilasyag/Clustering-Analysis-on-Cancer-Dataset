{
 "cells": [
  {
   "cell_type": "markdown",
   "metadata": {},
   "source": [
    "# SRILASYA GARIGIPATY ASSIGNMENT 5 CLUSTERING  DATA 1200 STUDENT # 100822953"
   ]
  },
  {
   "cell_type": "code",
   "execution_count": 1,
   "metadata": {},
   "outputs": [],
   "source": [
    "#Load Libraries\n",
    "import pandas as pd\n",
    "import numpy as np\n",
    "import matplotlib.pyplot as plt\n",
    "%matplotlib inline  \n",
    "from sklearn.cluster import KMeans\n",
    "from sklearn.metrics import silhouette_score"
   ]
  },
  {
   "cell_type": "code",
   "execution_count": 2,
   "metadata": {},
   "outputs": [
    {
     "data": {
      "text/html": [
       "<div>\n",
       "<style scoped>\n",
       "    .dataframe tbody tr th:only-of-type {\n",
       "        vertical-align: middle;\n",
       "    }\n",
       "\n",
       "    .dataframe tbody tr th {\n",
       "        vertical-align: top;\n",
       "    }\n",
       "\n",
       "    .dataframe thead th {\n",
       "        text-align: right;\n",
       "    }\n",
       "</style>\n",
       "<table border=\"1\" class=\"dataframe\">\n",
       "  <thead>\n",
       "    <tr style=\"text-align: right;\">\n",
       "      <th></th>\n",
       "      <th>id</th>\n",
       "      <th>Clump Thickness</th>\n",
       "      <th>UofCSize</th>\n",
       "      <th>UofCShape</th>\n",
       "      <th>Marginal Adhesion</th>\n",
       "      <th>SECSize</th>\n",
       "      <th>Bare Nuclei</th>\n",
       "      <th>Bland Chromatin</th>\n",
       "      <th>Normal Nucleoli</th>\n",
       "      <th>Mitoses</th>\n",
       "      <th>Class</th>\n",
       "    </tr>\n",
       "  </thead>\n",
       "  <tbody>\n",
       "    <tr>\n",
       "      <th>0</th>\n",
       "      <td>1000025</td>\n",
       "      <td>5</td>\n",
       "      <td>1</td>\n",
       "      <td>1</td>\n",
       "      <td>1</td>\n",
       "      <td>2</td>\n",
       "      <td>1</td>\n",
       "      <td>3</td>\n",
       "      <td>1</td>\n",
       "      <td>1</td>\n",
       "      <td>2</td>\n",
       "    </tr>\n",
       "    <tr>\n",
       "      <th>1</th>\n",
       "      <td>1002945</td>\n",
       "      <td>5</td>\n",
       "      <td>4</td>\n",
       "      <td>4</td>\n",
       "      <td>5</td>\n",
       "      <td>7</td>\n",
       "      <td>10</td>\n",
       "      <td>3</td>\n",
       "      <td>2</td>\n",
       "      <td>1</td>\n",
       "      <td>2</td>\n",
       "    </tr>\n",
       "    <tr>\n",
       "      <th>2</th>\n",
       "      <td>1015425</td>\n",
       "      <td>3</td>\n",
       "      <td>1</td>\n",
       "      <td>1</td>\n",
       "      <td>1</td>\n",
       "      <td>2</td>\n",
       "      <td>2</td>\n",
       "      <td>3</td>\n",
       "      <td>1</td>\n",
       "      <td>1</td>\n",
       "      <td>2</td>\n",
       "    </tr>\n",
       "    <tr>\n",
       "      <th>3</th>\n",
       "      <td>1016277</td>\n",
       "      <td>6</td>\n",
       "      <td>8</td>\n",
       "      <td>8</td>\n",
       "      <td>1</td>\n",
       "      <td>3</td>\n",
       "      <td>4</td>\n",
       "      <td>3</td>\n",
       "      <td>7</td>\n",
       "      <td>1</td>\n",
       "      <td>2</td>\n",
       "    </tr>\n",
       "    <tr>\n",
       "      <th>4</th>\n",
       "      <td>1017023</td>\n",
       "      <td>4</td>\n",
       "      <td>1</td>\n",
       "      <td>1</td>\n",
       "      <td>3</td>\n",
       "      <td>2</td>\n",
       "      <td>1</td>\n",
       "      <td>3</td>\n",
       "      <td>1</td>\n",
       "      <td>1</td>\n",
       "      <td>2</td>\n",
       "    </tr>\n",
       "  </tbody>\n",
       "</table>\n",
       "</div>"
      ],
      "text/plain": [
       "        id  Clump Thickness  UofCSize  UofCShape  Marginal Adhesion  SECSize  \\\n",
       "0  1000025                5         1          1                  1        2   \n",
       "1  1002945                5         4          4                  5        7   \n",
       "2  1015425                3         1          1                  1        2   \n",
       "3  1016277                6         8          8                  1        3   \n",
       "4  1017023                4         1          1                  3        2   \n",
       "\n",
       "   Bare Nuclei  Bland Chromatin  Normal Nucleoli  Mitoses  Class  \n",
       "0            1                3                1        1      2  \n",
       "1           10                3                2        1      2  \n",
       "2            2                3                1        1      2  \n",
       "3            4                3                7        1      2  \n",
       "4            1                3                1        1      2  "
      ]
     },
     "execution_count": 2,
     "metadata": {},
     "output_type": "execute_result"
    }
   ],
   "source": [
    "#Load  cancer Dataset\n",
    "dataset = pd.read_csv('cancer.csv')\n",
    "dataset.head(5)"
   ]
  },
  {
   "cell_type": "code",
   "execution_count": 7,
   "metadata": {},
   "outputs": [],
   "source": [
    "#Dropping the \"id\" column prior to analysis\n",
    "dataset=dataset.drop(['id'],axis=1)"
   ]
  },
  {
   "cell_type": "code",
   "execution_count": 8,
   "metadata": {},
   "outputs": [
    {
     "data": {
      "text/html": [
       "<div>\n",
       "<style scoped>\n",
       "    .dataframe tbody tr th:only-of-type {\n",
       "        vertical-align: middle;\n",
       "    }\n",
       "\n",
       "    .dataframe tbody tr th {\n",
       "        vertical-align: top;\n",
       "    }\n",
       "\n",
       "    .dataframe thead th {\n",
       "        text-align: right;\n",
       "    }\n",
       "</style>\n",
       "<table border=\"1\" class=\"dataframe\">\n",
       "  <thead>\n",
       "    <tr style=\"text-align: right;\">\n",
       "      <th></th>\n",
       "      <th>Clump Thickness</th>\n",
       "      <th>UofCSize</th>\n",
       "      <th>UofCShape</th>\n",
       "      <th>Marginal Adhesion</th>\n",
       "      <th>SECSize</th>\n",
       "      <th>Bare Nuclei</th>\n",
       "      <th>Bland Chromatin</th>\n",
       "      <th>Normal Nucleoli</th>\n",
       "      <th>Mitoses</th>\n",
       "      <th>Class</th>\n",
       "    </tr>\n",
       "  </thead>\n",
       "  <tbody>\n",
       "    <tr>\n",
       "      <th>0</th>\n",
       "      <td>5</td>\n",
       "      <td>1</td>\n",
       "      <td>1</td>\n",
       "      <td>1</td>\n",
       "      <td>2</td>\n",
       "      <td>1</td>\n",
       "      <td>3</td>\n",
       "      <td>1</td>\n",
       "      <td>1</td>\n",
       "      <td>2</td>\n",
       "    </tr>\n",
       "    <tr>\n",
       "      <th>1</th>\n",
       "      <td>5</td>\n",
       "      <td>4</td>\n",
       "      <td>4</td>\n",
       "      <td>5</td>\n",
       "      <td>7</td>\n",
       "      <td>10</td>\n",
       "      <td>3</td>\n",
       "      <td>2</td>\n",
       "      <td>1</td>\n",
       "      <td>2</td>\n",
       "    </tr>\n",
       "    <tr>\n",
       "      <th>2</th>\n",
       "      <td>3</td>\n",
       "      <td>1</td>\n",
       "      <td>1</td>\n",
       "      <td>1</td>\n",
       "      <td>2</td>\n",
       "      <td>2</td>\n",
       "      <td>3</td>\n",
       "      <td>1</td>\n",
       "      <td>1</td>\n",
       "      <td>2</td>\n",
       "    </tr>\n",
       "    <tr>\n",
       "      <th>3</th>\n",
       "      <td>6</td>\n",
       "      <td>8</td>\n",
       "      <td>8</td>\n",
       "      <td>1</td>\n",
       "      <td>3</td>\n",
       "      <td>4</td>\n",
       "      <td>3</td>\n",
       "      <td>7</td>\n",
       "      <td>1</td>\n",
       "      <td>2</td>\n",
       "    </tr>\n",
       "    <tr>\n",
       "      <th>4</th>\n",
       "      <td>4</td>\n",
       "      <td>1</td>\n",
       "      <td>1</td>\n",
       "      <td>3</td>\n",
       "      <td>2</td>\n",
       "      <td>1</td>\n",
       "      <td>3</td>\n",
       "      <td>1</td>\n",
       "      <td>1</td>\n",
       "      <td>2</td>\n",
       "    </tr>\n",
       "  </tbody>\n",
       "</table>\n",
       "</div>"
      ],
      "text/plain": [
       "   Clump Thickness  UofCSize  UofCShape  Marginal Adhesion  SECSize  \\\n",
       "0                5         1          1                  1        2   \n",
       "1                5         4          4                  5        7   \n",
       "2                3         1          1                  1        2   \n",
       "3                6         8          8                  1        3   \n",
       "4                4         1          1                  3        2   \n",
       "\n",
       "   Bare Nuclei  Bland Chromatin  Normal Nucleoli  Mitoses  Class  \n",
       "0            1                3                1        1      2  \n",
       "1           10                3                2        1      2  \n",
       "2            2                3                1        1      2  \n",
       "3            4                3                7        1      2  \n",
       "4            1                3                1        1      2  "
      ]
     },
     "execution_count": 8,
     "metadata": {},
     "output_type": "execute_result"
    }
   ],
   "source": [
    "#Displaying first 5 rows of cancer dataset with \"id\" column dropped\n",
    "dataset.head(5)"
   ]
  },
  {
   "cell_type": "code",
   "execution_count": 16,
   "metadata": {},
   "outputs": [
    {
     "data": {
      "text/plain": [
       "Clump Thickness      0\n",
       "UofCSize             0\n",
       "UofCShape            0\n",
       "Marginal Adhesion    0\n",
       "SECSize              0\n",
       "Bare Nuclei          0\n",
       "Bland Chromatin      0\n",
       "Normal Nucleoli      0\n",
       "Mitoses              0\n",
       "Class                0\n",
       "dtype: int64"
      ]
     },
     "execution_count": 16,
     "metadata": {},
     "output_type": "execute_result"
    }
   ],
   "source": [
    "#Check the number of missing values in data\n",
    "dataset.isna().sum()"
   ]
  },
  {
   "cell_type": "code",
   "execution_count": 21,
   "metadata": {},
   "outputs": [
    {
     "data": {
      "text/plain": [
       "Index(['Clump Thickness', 'UofCSize', 'UofCShape', 'Marginal Adhesion',\n",
       "       'SECSize', 'Bare Nuclei', 'Bland Chromatin', 'Normal Nucleoli',\n",
       "       'Mitoses', 'Class'],\n",
       "      dtype='object')"
      ]
     },
     "execution_count": 21,
     "metadata": {},
     "output_type": "execute_result"
    }
   ],
   "source": [
    "#Determine the various columns in dataset\n",
    "cols=dataset.columns\n",
    "cols"
   ]
  },
  {
   "cell_type": "code",
   "execution_count": 24,
   "metadata": {},
   "outputs": [
    {
     "data": {
      "text/html": [
       "<div>\n",
       "<style scoped>\n",
       "    .dataframe tbody tr th:only-of-type {\n",
       "        vertical-align: middle;\n",
       "    }\n",
       "\n",
       "    .dataframe tbody tr th {\n",
       "        vertical-align: top;\n",
       "    }\n",
       "\n",
       "    .dataframe thead th {\n",
       "        text-align: right;\n",
       "    }\n",
       "</style>\n",
       "<table border=\"1\" class=\"dataframe\">\n",
       "  <thead>\n",
       "    <tr style=\"text-align: right;\">\n",
       "      <th></th>\n",
       "      <th>Clump Thickness</th>\n",
       "      <th>UofCSize</th>\n",
       "      <th>UofCShape</th>\n",
       "      <th>Marginal Adhesion</th>\n",
       "      <th>SECSize</th>\n",
       "      <th>Bare Nuclei</th>\n",
       "      <th>Bland Chromatin</th>\n",
       "      <th>Normal Nucleoli</th>\n",
       "      <th>Mitoses</th>\n",
       "      <th>Class</th>\n",
       "    </tr>\n",
       "  </thead>\n",
       "  <tbody>\n",
       "    <tr>\n",
       "      <th>0</th>\n",
       "      <td>1.791759</td>\n",
       "      <td>0.693147</td>\n",
       "      <td>0.693147</td>\n",
       "      <td>0.693147</td>\n",
       "      <td>1.098612</td>\n",
       "      <td>0.693147</td>\n",
       "      <td>1.386294</td>\n",
       "      <td>0.693147</td>\n",
       "      <td>0.693147</td>\n",
       "      <td>2</td>\n",
       "    </tr>\n",
       "    <tr>\n",
       "      <th>1</th>\n",
       "      <td>1.791759</td>\n",
       "      <td>1.609438</td>\n",
       "      <td>1.609438</td>\n",
       "      <td>1.791759</td>\n",
       "      <td>2.079442</td>\n",
       "      <td>2.397895</td>\n",
       "      <td>1.386294</td>\n",
       "      <td>1.098612</td>\n",
       "      <td>0.693147</td>\n",
       "      <td>2</td>\n",
       "    </tr>\n",
       "    <tr>\n",
       "      <th>2</th>\n",
       "      <td>1.386294</td>\n",
       "      <td>0.693147</td>\n",
       "      <td>0.693147</td>\n",
       "      <td>0.693147</td>\n",
       "      <td>1.098612</td>\n",
       "      <td>1.098612</td>\n",
       "      <td>1.386294</td>\n",
       "      <td>0.693147</td>\n",
       "      <td>0.693147</td>\n",
       "      <td>2</td>\n",
       "    </tr>\n",
       "    <tr>\n",
       "      <th>3</th>\n",
       "      <td>1.945910</td>\n",
       "      <td>2.197225</td>\n",
       "      <td>2.197225</td>\n",
       "      <td>0.693147</td>\n",
       "      <td>1.386294</td>\n",
       "      <td>1.609438</td>\n",
       "      <td>1.386294</td>\n",
       "      <td>2.079442</td>\n",
       "      <td>0.693147</td>\n",
       "      <td>2</td>\n",
       "    </tr>\n",
       "    <tr>\n",
       "      <th>4</th>\n",
       "      <td>1.609438</td>\n",
       "      <td>0.693147</td>\n",
       "      <td>0.693147</td>\n",
       "      <td>1.386294</td>\n",
       "      <td>1.098612</td>\n",
       "      <td>0.693147</td>\n",
       "      <td>1.386294</td>\n",
       "      <td>0.693147</td>\n",
       "      <td>0.693147</td>\n",
       "      <td>2</td>\n",
       "    </tr>\n",
       "  </tbody>\n",
       "</table>\n",
       "</div>"
      ],
      "text/plain": [
       "   Clump Thickness  UofCSize  UofCShape  Marginal Adhesion   SECSize  \\\n",
       "0         1.791759  0.693147   0.693147           0.693147  1.098612   \n",
       "1         1.791759  1.609438   1.609438           1.791759  2.079442   \n",
       "2         1.386294  0.693147   0.693147           0.693147  1.098612   \n",
       "3         1.945910  2.197225   2.197225           0.693147  1.386294   \n",
       "4         1.609438  0.693147   0.693147           1.386294  1.098612   \n",
       "\n",
       "   Bare Nuclei  Bland Chromatin  Normal Nucleoli   Mitoses  Class  \n",
       "0     0.693147         1.386294         0.693147  0.693147      2  \n",
       "1     2.397895         1.386294         1.098612  0.693147      2  \n",
       "2     1.098612         1.386294         0.693147  0.693147      2  \n",
       "3     1.609438         1.386294         2.079442  0.693147      2  \n",
       "4     0.693147         1.386294         0.693147  0.693147      2  "
      ]
     },
     "execution_count": 24,
     "metadata": {},
     "output_type": "execute_result"
    }
   ],
   "source": [
    "#Taking the features from the dataset copy and scaling them using log function\n",
    "features = dataset.copy()\n",
    "cols =  [ 'Clump Thickness', 'UofCSize', 'UofCShape', 'Marginal Adhesion',\n",
    "       'SECSize', 'Bare Nuclei', 'Bland Chromatin', 'Normal Nucleoli',\n",
    "       'Mitoses']\n",
    "\n",
    "# Note: Adding 1 for each value to avoid inf values\n",
    "features[cols] = np.log(1 + features[cols])\n",
    "features.head()"
   ]
  },
  {
   "cell_type": "code",
   "execution_count": 25,
   "metadata": {},
   "outputs": [
    {
     "name": "stdout",
     "output_type": "stream",
     "text": [
      "Clump Thickness --------- 0\n",
      "UofCSize --------- 0\n",
      "UofCShape --------- 0\n",
      "Marginal Adhesion --------- 0\n",
      "SECSize --------- 31\n",
      "Bare Nuclei --------- 0\n",
      "Bland Chromatin --------- 0\n",
      "Normal Nucleoli --------- 0\n",
      "Mitoses --------- 120\n",
      "Class --------- 0\n"
     ]
    }
   ],
   "source": [
    "#Check the outliers in cancer dataset\n",
    "# Function to detect outliers in every feature\n",
    "def detect_outliers(dataframe):\n",
    "    cols = list(dataframe)\n",
    "    \n",
    "    for column in cols:\n",
    "        if column in dataframe.select_dtypes(include=np.number).columns:\n",
    "            q1 = dataframe[column].quantile(0.25)\n",
    "            q3 = dataframe[column].quantile(0.75)\n",
    "            iqr = q3 - q1\n",
    "            fence_low = q1 - (1.5*iqr)\n",
    "            fence_high = q3 + (1.5*iqr)\n",
    "\n",
    "            print(column + ' ---------', dataframe.loc[(dataframe[column] < fence_low) | (dataframe[column] > fence_high)].shape[0])\n",
    "\n",
    "detect_outliers(features)"
   ]
  },
  {
   "cell_type": "code",
   "execution_count": 70,
   "metadata": {},
   "outputs": [
    {
     "data": {
      "text/html": [
       "<div>\n",
       "<style scoped>\n",
       "    .dataframe tbody tr th:only-of-type {\n",
       "        vertical-align: middle;\n",
       "    }\n",
       "\n",
       "    .dataframe tbody tr th {\n",
       "        vertical-align: top;\n",
       "    }\n",
       "\n",
       "    .dataframe thead th {\n",
       "        text-align: right;\n",
       "    }\n",
       "</style>\n",
       "<table border=\"1\" class=\"dataframe\">\n",
       "  <thead>\n",
       "    <tr style=\"text-align: right;\">\n",
       "      <th></th>\n",
       "      <th>Clump Thickness</th>\n",
       "      <th>UofCSize</th>\n",
       "      <th>UofCShape</th>\n",
       "      <th>Marginal Adhesion</th>\n",
       "      <th>SECSize</th>\n",
       "      <th>Bare Nuclei</th>\n",
       "      <th>Bland Chromatin</th>\n",
       "      <th>Normal Nucleoli</th>\n",
       "      <th>Mitoses</th>\n",
       "      <th>Class</th>\n",
       "    </tr>\n",
       "  </thead>\n",
       "  <tbody>\n",
       "    <tr>\n",
       "      <th>Clump Thickness</th>\n",
       "      <td>1.000000</td>\n",
       "      <td>0.642481</td>\n",
       "      <td>0.653470</td>\n",
       "      <td>0.487829</td>\n",
       "      <td>0.523596</td>\n",
       "      <td>0.593091</td>\n",
       "      <td>0.553742</td>\n",
       "      <td>0.534066</td>\n",
       "      <td>0.350957</td>\n",
       "      <td>0.714790</td>\n",
       "    </tr>\n",
       "    <tr>\n",
       "      <th>UofCSize</th>\n",
       "      <td>0.642481</td>\n",
       "      <td>1.000000</td>\n",
       "      <td>0.907228</td>\n",
       "      <td>0.706977</td>\n",
       "      <td>0.753544</td>\n",
       "      <td>0.691709</td>\n",
       "      <td>0.755559</td>\n",
       "      <td>0.719346</td>\n",
       "      <td>0.460755</td>\n",
       "      <td>0.820801</td>\n",
       "    </tr>\n",
       "    <tr>\n",
       "      <th>UofCShape</th>\n",
       "      <td>0.653470</td>\n",
       "      <td>0.907228</td>\n",
       "      <td>1.000000</td>\n",
       "      <td>0.685948</td>\n",
       "      <td>0.722462</td>\n",
       "      <td>0.713878</td>\n",
       "      <td>0.735344</td>\n",
       "      <td>0.717963</td>\n",
       "      <td>0.441258</td>\n",
       "      <td>0.821891</td>\n",
       "    </tr>\n",
       "    <tr>\n",
       "      <th>Marginal Adhesion</th>\n",
       "      <td>0.487829</td>\n",
       "      <td>0.706977</td>\n",
       "      <td>0.685948</td>\n",
       "      <td>1.000000</td>\n",
       "      <td>0.594548</td>\n",
       "      <td>0.670648</td>\n",
       "      <td>0.668567</td>\n",
       "      <td>0.603121</td>\n",
       "      <td>0.418898</td>\n",
       "      <td>0.706294</td>\n",
       "    </tr>\n",
       "    <tr>\n",
       "      <th>SECSize</th>\n",
       "      <td>0.523596</td>\n",
       "      <td>0.753544</td>\n",
       "      <td>0.722462</td>\n",
       "      <td>0.594548</td>\n",
       "      <td>1.000000</td>\n",
       "      <td>0.585716</td>\n",
       "      <td>0.618128</td>\n",
       "      <td>0.628926</td>\n",
       "      <td>0.480583</td>\n",
       "      <td>0.690958</td>\n",
       "    </tr>\n",
       "    <tr>\n",
       "      <th>Bare Nuclei</th>\n",
       "      <td>0.593091</td>\n",
       "      <td>0.691709</td>\n",
       "      <td>0.713878</td>\n",
       "      <td>0.670648</td>\n",
       "      <td>0.585716</td>\n",
       "      <td>1.000000</td>\n",
       "      <td>0.680615</td>\n",
       "      <td>0.584280</td>\n",
       "      <td>0.339210</td>\n",
       "      <td>0.822696</td>\n",
       "    </tr>\n",
       "    <tr>\n",
       "      <th>Bland Chromatin</th>\n",
       "      <td>0.553742</td>\n",
       "      <td>0.755559</td>\n",
       "      <td>0.735344</td>\n",
       "      <td>0.668567</td>\n",
       "      <td>0.618128</td>\n",
       "      <td>0.680615</td>\n",
       "      <td>1.000000</td>\n",
       "      <td>0.665602</td>\n",
       "      <td>0.346011</td>\n",
       "      <td>0.758228</td>\n",
       "    </tr>\n",
       "    <tr>\n",
       "      <th>Normal Nucleoli</th>\n",
       "      <td>0.534066</td>\n",
       "      <td>0.719346</td>\n",
       "      <td>0.717963</td>\n",
       "      <td>0.603121</td>\n",
       "      <td>0.628926</td>\n",
       "      <td>0.584280</td>\n",
       "      <td>0.665602</td>\n",
       "      <td>1.000000</td>\n",
       "      <td>0.433757</td>\n",
       "      <td>0.718677</td>\n",
       "    </tr>\n",
       "    <tr>\n",
       "      <th>Mitoses</th>\n",
       "      <td>0.350957</td>\n",
       "      <td>0.460755</td>\n",
       "      <td>0.441258</td>\n",
       "      <td>0.418898</td>\n",
       "      <td>0.480583</td>\n",
       "      <td>0.339210</td>\n",
       "      <td>0.346011</td>\n",
       "      <td>0.433757</td>\n",
       "      <td>1.000000</td>\n",
       "      <td>0.423448</td>\n",
       "    </tr>\n",
       "    <tr>\n",
       "      <th>Class</th>\n",
       "      <td>0.714790</td>\n",
       "      <td>0.820801</td>\n",
       "      <td>0.821891</td>\n",
       "      <td>0.706294</td>\n",
       "      <td>0.690958</td>\n",
       "      <td>0.822696</td>\n",
       "      <td>0.758228</td>\n",
       "      <td>0.718677</td>\n",
       "      <td>0.423448</td>\n",
       "      <td>1.000000</td>\n",
       "    </tr>\n",
       "  </tbody>\n",
       "</table>\n",
       "</div>"
      ],
      "text/plain": [
       "                   Clump Thickness  UofCSize  UofCShape  Marginal Adhesion  \\\n",
       "Clump Thickness           1.000000  0.642481   0.653470           0.487829   \n",
       "UofCSize                  0.642481  1.000000   0.907228           0.706977   \n",
       "UofCShape                 0.653470  0.907228   1.000000           0.685948   \n",
       "Marginal Adhesion         0.487829  0.706977   0.685948           1.000000   \n",
       "SECSize                   0.523596  0.753544   0.722462           0.594548   \n",
       "Bare Nuclei               0.593091  0.691709   0.713878           0.670648   \n",
       "Bland Chromatin           0.553742  0.755559   0.735344           0.668567   \n",
       "Normal Nucleoli           0.534066  0.719346   0.717963           0.603121   \n",
       "Mitoses                   0.350957  0.460755   0.441258           0.418898   \n",
       "Class                     0.714790  0.820801   0.821891           0.706294   \n",
       "\n",
       "                    SECSize  Bare Nuclei  Bland Chromatin  Normal Nucleoli  \\\n",
       "Clump Thickness    0.523596     0.593091         0.553742         0.534066   \n",
       "UofCSize           0.753544     0.691709         0.755559         0.719346   \n",
       "UofCShape          0.722462     0.713878         0.735344         0.717963   \n",
       "Marginal Adhesion  0.594548     0.670648         0.668567         0.603121   \n",
       "SECSize            1.000000     0.585716         0.618128         0.628926   \n",
       "Bare Nuclei        0.585716     1.000000         0.680615         0.584280   \n",
       "Bland Chromatin    0.618128     0.680615         1.000000         0.665602   \n",
       "Normal Nucleoli    0.628926     0.584280         0.665602         1.000000   \n",
       "Mitoses            0.480583     0.339210         0.346011         0.433757   \n",
       "Class              0.690958     0.822696         0.758228         0.718677   \n",
       "\n",
       "                    Mitoses     Class  \n",
       "Clump Thickness    0.350957  0.714790  \n",
       "UofCSize           0.460755  0.820801  \n",
       "UofCShape          0.441258  0.821891  \n",
       "Marginal Adhesion  0.418898  0.706294  \n",
       "SECSize            0.480583  0.690958  \n",
       "Bare Nuclei        0.339210  0.822696  \n",
       "Bland Chromatin    0.346011  0.758228  \n",
       "Normal Nucleoli    0.433757  0.718677  \n",
       "Mitoses            1.000000  0.423448  \n",
       "Class              0.423448  1.000000  "
      ]
     },
     "execution_count": 70,
     "metadata": {},
     "output_type": "execute_result"
    }
   ],
   "source": [
    "#Correlation of the independent variables with the dependent variable \"Class\"\n",
    "dataset.corr()"
   ]
  },
  {
   "cell_type": "code",
   "execution_count": 26,
   "metadata": {},
   "outputs": [
    {
     "data": {
      "text/plain": [
       "<matplotlib.axes._subplots.AxesSubplot at 0x29812ad73d0>"
      ]
     },
     "execution_count": 26,
     "metadata": {},
     "output_type": "execute_result"
    },
    {
     "data": {
      "image/png": "[encoded data removed]",
      "text/plain": [
       "<Figure size 2160x1080 with 1 Axes>"
      ]
     },
     "metadata": {
      "needs_background": "light"
     },
     "output_type": "display_data"
    }
   ],
   "source": [
    "# box plot in cancer dataset to visualize\n",
    "features.boxplot(rot=90, figsize=(30,15))"
   ]
  },
  {
   "cell_type": "code",
   "execution_count": 27,
   "metadata": {},
   "outputs": [
    {
     "data": {
      "text/plain": [
       "<bound method DataFrame.info of      Clump Thickness  UofCSize  UofCShape  Marginal Adhesion  SECSize  \\\n",
       "0                  5         1          1                  1        2   \n",
       "1                  5         4          4                  5        7   \n",
       "2                  3         1          1                  1        2   \n",
       "3                  6         8          8                  1        3   \n",
       "4                  4         1          1                  3        2   \n",
       "..               ...       ...        ...                ...      ...   \n",
       "678                3         1          1                  1        3   \n",
       "679                2         1          1                  1        2   \n",
       "680                5        10         10                  3        7   \n",
       "681                4         8          6                  4        3   \n",
       "682                4         8          8                  5        4   \n",
       "\n",
       "     Bare Nuclei  Bland Chromatin  Normal Nucleoli  Mitoses  Class  \n",
       "0              1                3                1        1      2  \n",
       "1             10                3                2        1      2  \n",
       "2              2                3                1        1      2  \n",
       "3              4                3                7        1      2  \n",
       "4              1                3                1        1      2  \n",
       "..           ...              ...              ...      ...    ...  \n",
       "678            2                1                1        1      2  \n",
       "679            1                1                1        1      2  \n",
       "680            3                8               10        2      4  \n",
       "681            4               10                6        1      4  \n",
       "682            5               10                4        1      4  \n",
       "\n",
       "[683 rows x 10 columns]>"
      ]
     },
     "execution_count": 27,
     "metadata": {},
     "output_type": "execute_result"
    }
   ],
   "source": [
    "#Information about cancer dataset \n",
    "dataset.info"
   ]
  },
  {
   "cell_type": "code",
   "execution_count": 28,
   "metadata": {},
   "outputs": [],
   "source": [
    "#Creating a function that does all of the above tasks in one go(Shape, Datatypes, Missng Values, Unique Values, Descriptive stats)\n",
    "def get_basic_stats(dfname):\n",
    "    print(\"Shape of dataframe is \" + str(dfname.shape))\n",
    "    print(\"Below are datatypes of columns in DF\")\n",
    "    print(dfname.dtypes.sort_values())\n",
    "    print(\"Below are missing values in each column\")\n",
    "    print(dfname.isna().sum().sort_values())\n",
    "    print(\"Below are the number of unique values taken by a column\")\n",
    "    print(dfname.nunique().sort_values())\n",
    "    print(\"Below are some records in DF\")\n",
    "    print(dfname.head())\n",
    "    print(\"Basic Stats for numeric variables\")\n",
    "    print(dfname.describe())"
   ]
  },
  {
   "cell_type": "code",
   "execution_count": 29,
   "metadata": {},
   "outputs": [
    {
     "name": "stdout",
     "output_type": "stream",
     "text": [
      "Shape of dataframe is (683, 10)\n",
      "Below are datatypes of columns in DF\n",
      "Clump Thickness      int64\n",
      "UofCSize             int64\n",
      "UofCShape            int64\n",
      "Marginal Adhesion    int64\n",
      "SECSize              int64\n",
      "Bare Nuclei          int64\n",
      "Bland Chromatin      int64\n",
      "Normal Nucleoli      int64\n",
      "Mitoses              int64\n",
      "Class                int64\n",
      "dtype: object\n",
      "Below are missing values in each column\n",
      "Clump Thickness      0\n",
      "UofCSize             0\n",
      "UofCShape            0\n",
      "Marginal Adhesion    0\n",
      "SECSize              0\n",
      "Bare Nuclei          0\n",
      "Bland Chromatin      0\n",
      "Normal Nucleoli      0\n",
      "Mitoses              0\n",
      "Class                0\n",
      "dtype: int64\n",
      "Below are the number of unique values taken by a column\n",
      "Class                 2\n",
      "Mitoses               9\n",
      "Clump Thickness      10\n",
      "UofCSize             10\n",
      "UofCShape            10\n",
      "Marginal Adhesion    10\n",
      "SECSize              10\n",
      "Bare Nuclei          10\n",
      "Bland Chromatin      10\n",
      "Normal Nucleoli      10\n",
      "dtype: int64\n",
      "Below are some records in DF\n",
      "   Clump Thickness  UofCSize  UofCShape  Marginal Adhesion  SECSize  \\\n",
      "0                5         1          1                  1        2   \n",
      "1                5         4          4                  5        7   \n",
      "2                3         1          1                  1        2   \n",
      "3                6         8          8                  1        3   \n",
      "4                4         1          1                  3        2   \n",
      "\n",
      "   Bare Nuclei  Bland Chromatin  Normal Nucleoli  Mitoses  Class  \n",
      "0            1                3                1        1      2  \n",
      "1           10                3                2        1      2  \n",
      "2            2                3                1        1      2  \n",
      "3            4                3                7        1      2  \n",
      "4            1                3                1        1      2  \n",
      "Basic Stats for numeric variables\n",
      "       Clump Thickness    UofCSize   UofCShape  Marginal Adhesion     SECSize  \\\n",
      "count       683.000000  683.000000  683.000000         683.000000  683.000000   \n",
      "mean          4.442167    3.150805    3.215227           2.830161    3.234261   \n",
      "std           2.820761    3.065145    2.988581           2.864562    2.223085   \n",
      "min           1.000000    1.000000    1.000000           1.000000    1.000000   \n",
      "25%           2.000000    1.000000    1.000000           1.000000    2.000000   \n",
      "50%           4.000000    1.000000    1.000000           1.000000    2.000000   \n",
      "75%           6.000000    5.000000    5.000000           4.000000    4.000000   \n",
      "max          10.000000   10.000000   10.000000          10.000000   10.000000   \n",
      "\n",
      "       Bare Nuclei  Bland Chromatin  Normal Nucleoli     Mitoses       Class  \n",
      "count   683.000000       683.000000       683.000000  683.000000  683.000000  \n",
      "mean      3.544656         3.445095         2.869693    1.603221    2.699854  \n",
      "std       3.643857         2.449697         3.052666    1.732674    0.954592  \n",
      "min       1.000000         1.000000         1.000000    1.000000    2.000000  \n",
      "25%       1.000000         2.000000         1.000000    1.000000    2.000000  \n",
      "50%       1.000000         3.000000         1.000000    1.000000    2.000000  \n",
      "75%       6.000000         5.000000         4.000000    1.000000    4.000000  \n",
      "max      10.000000        10.000000        10.000000   10.000000    4.000000  \n"
     ]
    }
   ],
   "source": [
    "# getting all the basic stats for dataset\n",
    "get_basic_stats(dataset)"
   ]
  },
  {
   "cell_type": "code",
   "execution_count": 46,
   "metadata": {},
   "outputs": [],
   "source": [
    "#Create x (we ignore the y variable)\n",
    "x = dataset.drop('Class', axis=1).to_numpy()\n",
    "\n",
    "#Scale the Data\n",
    "from sklearn.preprocessing import StandardScaler\n",
    "sc = StandardScaler()\n",
    "data_transformed=sc.fit_transform(x)"
   ]
  },
  {
   "cell_type": "code",
   "execution_count": 47,
   "metadata": {},
   "outputs": [
    {
     "data": {
      "image/png": "[encoded data removed]",
      "text/plain": [
       "<Figure size 432x288 with 1 Axes>"
      ]
     },
     "metadata": {
      "needs_background": "light"
     },
     "output_type": "display_data"
    }
   ],
   "source": [
    "#Determine optimum number of clusters\n",
    "wcss = []\n",
    "for i in range(1, 10):\n",
    "    kmeans = KMeans(n_clusters = i, init = 'k-means++', max_iter = 300, n_init = 10,random_state = 100)\n",
    "    kmeans.fit(data_transformed)\n",
    "    wcss.append(kmeans.inertia_)\n",
    "    \n",
    "#Plot Elbow Method\n",
    "plt.plot(range(1, 10), wcss,marker='o')\n",
    "plt.title('The elbow method')\n",
    "plt.xlabel('Number of clusters')\n",
    "plt.ylabel('WCSS') #within cluster sum of squares\n",
    "plt.show()    "
   ]
  },
  {
   "cell_type": "code",
   "execution_count": 48,
   "metadata": {},
   "outputs": [
    {
     "name": "stdout",
     "output_type": "stream",
     "text": [
      "For n_clusters= 2, The Silhouette Coefficient is 0.5720321393105906\n",
      "For n_clusters= 3, The Silhouette Coefficient is 0.5035150478533867\n",
      "For n_clusters= 4, The Silhouette Coefficient is 0.5048464633188064\n",
      "For n_clusters= 5, The Silhouette Coefficient is 0.23579791736042519\n",
      "For n_clusters= 6, The Silhouette Coefficient is 0.2281161754521486\n",
      "For n_clusters= 7, The Silhouette Coefficient is 0.2293316085180714\n",
      "For n_clusters= 8, The Silhouette Coefficient is 0.2329240994533941\n",
      "For n_clusters= 9, The Silhouette Coefficient is 0.24330413016748986\n"
     ]
    },
    {
     "data": {
      "image/png": "[encoded data removed]",
      "text/plain": [
       "<Figure size 432x288 with 1 Axes>"
      ]
     },
     "metadata": {
      "needs_background": "light"
     },
     "output_type": "display_data"
    }
   ],
   "source": [
    "#Create Silhouette Coefficients\n",
    "scores= [0]\n",
    "for n_cluster in range(2, 10):\n",
    "       kmeans = KMeans(n_clusters=n_cluster).fit(x)\n",
    "       label = kmeans.labels_\n",
    "       sil_coeff = silhouette_score(data_transformed, label, metric='euclidean')\n",
    "       scores.append(sil_coeff) \n",
    "       print('For n_clusters= {}, The Silhouette Coefficient is {}'.format(n_cluster, sil_coeff))\n",
    "\n",
    "#Plot Silhouette\n",
    "plt.plot(range(1,10), scores, marker='o')\n",
    "plt.title('The Silhouette method')\n",
    "plt.xlabel('Number of clusters')\n",
    "plt.ylabel('Sihouette Coefficient') \n",
    "plt.show()        "
   ]
  },
  {
   "cell_type": "code",
   "execution_count": 49,
   "metadata": {},
   "outputs": [
    {
     "data": {
      "text/plain": [
       "Text(0.5, 0, 'k')"
      ]
     },
     "execution_count": 49,
     "metadata": {},
     "output_type": "execute_result"
    },
    {
     "data": {
      "image/png": "[encoded data removed]",
      "text/plain": [
       "<Figure size 432x288 with 1 Axes>"
      ]
     },
     "metadata": {
      "needs_background": "light"
     },
     "output_type": "display_data"
    }
   ],
   "source": [
    "#Create Gap Statistic\n",
    "from sklearn.metrics import pairwise_distances\n",
    "def compute_inertia(a, X):\n",
    "    W = [np.mean(pairwise_distances(X[a == c, :])) for c in np.unique(a)]\n",
    "    return np.mean(W)\n",
    "\n",
    "def compute_gap(clustering, data, k_max=5, n_references=5):\n",
    "    if len(data.shape) == 1:\n",
    "        data = data.reshape(-1, 1)\n",
    "    reference = np.random.rand(*data.shape)\n",
    "    reference_inertia = []\n",
    "    for k in range(2, k_max+1):\n",
    "        local_inertia = []\n",
    "        for _ in range(n_references):\n",
    "            clustering.n_clusters = k\n",
    "            assignments = clustering.fit_predict(reference)\n",
    "            local_inertia.append(compute_inertia(assignments, reference))\n",
    "        reference_inertia.append(np.mean(local_inertia))\n",
    "    \n",
    "    ondata_inertia = []\n",
    "    for k in range(2, k_max+1):\n",
    "        clustering.n_clusters = k\n",
    "        assignments = clustering.fit_predict(data)\n",
    "        ondata_inertia.append(compute_inertia(assignments, data))\n",
    "        \n",
    "    gap = np.log(reference_inertia)-np.log(ondata_inertia)\n",
    "    return abs(gap), np.log(reference_inertia), np.log(ondata_inertia)\n",
    "\n",
    "k_max = 10\n",
    "gap, reference_inertia, ondata_inertia = compute_gap(KMeans(), data_transformed, k_max)\n",
    "\n",
    "#Plot Gap Statistic\n",
    "\n",
    "plt.plot(range(2, k_max+1), gap, '-o')\n",
    "plt.ylabel('gap')\n",
    "plt.xlabel('k')"
   ]
  },
  {
   "cell_type": "code",
   "execution_count": 50,
   "metadata": {},
   "outputs": [
    {
     "data": {
      "text/html": [
       "<div>\n",
       "<style scoped>\n",
       "    .dataframe tbody tr th:only-of-type {\n",
       "        vertical-align: middle;\n",
       "    }\n",
       "\n",
       "    .dataframe tbody tr th {\n",
       "        vertical-align: top;\n",
       "    }\n",
       "\n",
       "    .dataframe thead th {\n",
       "        text-align: right;\n",
       "    }\n",
       "</style>\n",
       "<table border=\"1\" class=\"dataframe\">\n",
       "  <thead>\n",
       "    <tr style=\"text-align: right;\">\n",
       "      <th></th>\n",
       "      <th>Clump Thickness</th>\n",
       "      <th>UofCSize</th>\n",
       "      <th>UofCShape</th>\n",
       "      <th>Marginal Adhesion</th>\n",
       "      <th>SECSize</th>\n",
       "      <th>Bare Nuclei</th>\n",
       "      <th>Bland Chromatin</th>\n",
       "      <th>Normal Nucleoli</th>\n",
       "      <th>Mitoses</th>\n",
       "      <th>New Cluster</th>\n",
       "    </tr>\n",
       "  </thead>\n",
       "  <tbody>\n",
       "    <tr>\n",
       "      <th>0</th>\n",
       "      <td>5</td>\n",
       "      <td>1</td>\n",
       "      <td>1</td>\n",
       "      <td>1</td>\n",
       "      <td>2</td>\n",
       "      <td>1</td>\n",
       "      <td>3</td>\n",
       "      <td>1</td>\n",
       "      <td>1</td>\n",
       "      <td>Cluster 1</td>\n",
       "    </tr>\n",
       "    <tr>\n",
       "      <th>1</th>\n",
       "      <td>5</td>\n",
       "      <td>4</td>\n",
       "      <td>4</td>\n",
       "      <td>5</td>\n",
       "      <td>7</td>\n",
       "      <td>10</td>\n",
       "      <td>3</td>\n",
       "      <td>2</td>\n",
       "      <td>1</td>\n",
       "      <td>Cluster 2</td>\n",
       "    </tr>\n",
       "    <tr>\n",
       "      <th>2</th>\n",
       "      <td>3</td>\n",
       "      <td>1</td>\n",
       "      <td>1</td>\n",
       "      <td>1</td>\n",
       "      <td>2</td>\n",
       "      <td>2</td>\n",
       "      <td>3</td>\n",
       "      <td>1</td>\n",
       "      <td>1</td>\n",
       "      <td>Cluster 1</td>\n",
       "    </tr>\n",
       "    <tr>\n",
       "      <th>3</th>\n",
       "      <td>6</td>\n",
       "      <td>8</td>\n",
       "      <td>8</td>\n",
       "      <td>1</td>\n",
       "      <td>3</td>\n",
       "      <td>4</td>\n",
       "      <td>3</td>\n",
       "      <td>7</td>\n",
       "      <td>1</td>\n",
       "      <td>Cluster 2</td>\n",
       "    </tr>\n",
       "    <tr>\n",
       "      <th>4</th>\n",
       "      <td>4</td>\n",
       "      <td>1</td>\n",
       "      <td>1</td>\n",
       "      <td>3</td>\n",
       "      <td>2</td>\n",
       "      <td>1</td>\n",
       "      <td>3</td>\n",
       "      <td>1</td>\n",
       "      <td>1</td>\n",
       "      <td>Cluster 1</td>\n",
       "    </tr>\n",
       "  </tbody>\n",
       "</table>\n",
       "</div>"
      ],
      "text/plain": [
       "   Clump Thickness  UofCSize  UofCShape  Marginal Adhesion  SECSize  \\\n",
       "0                5         1          1                  1        2   \n",
       "1                5         4          4                  5        7   \n",
       "2                3         1          1                  1        2   \n",
       "3                6         8          8                  1        3   \n",
       "4                4         1          1                  3        2   \n",
       "\n",
       "   Bare Nuclei  Bland Chromatin  Normal Nucleoli  Mitoses New Cluster  \n",
       "0            1                3                1        1   Cluster 1  \n",
       "1           10                3                2        1   Cluster 2  \n",
       "2            2                3                1        1   Cluster 1  \n",
       "3            4                3                7        1   Cluster 2  \n",
       "4            1                3                1        1   Cluster 1  "
      ]
     },
     "execution_count": 50,
     "metadata": {},
     "output_type": "execute_result"
    }
   ],
   "source": [
    "#Create KMeans with 2 Clusters\n",
    "\n",
    "#Apply KMeans clustering\n",
    "kmeans = KMeans(n_clusters = 2, init = 'k-means++', max_iter = 300, n_init = 10, random_state = 100)\n",
    "y_kmeans = kmeans.fit_predict(data_transformed)\n",
    "\n",
    "#Add Prediction column to dataset\n",
    "dataset2= dataset.drop('Class', axis=1)\n",
    "dataset2['New Cluster']=kmeans.labels_\n",
    "dataset2['New Cluster'] = dataset2['New Cluster'].map({0:'Cluster 1', 1:'Cluster 2'}) \n",
    "dataset2.head()"
   ]
  },
  {
   "cell_type": "code",
   "execution_count": 51,
   "metadata": {},
   "outputs": [
    {
     "data": {
      "text/plain": [
       "<matplotlib.legend.Legend at 0x29812d76eb0>"
      ]
     },
     "execution_count": 51,
     "metadata": {},
     "output_type": "execute_result"
    },
    {
     "data": {
      "image/png": "[encoded data removed]",
      "text/plain": [
       "<Figure size 432x288 with 1 Axes>"
      ]
     },
     "metadata": {
      "needs_background": "light"
     },
     "output_type": "display_data"
    }
   ],
   "source": [
    "#Plot of 2 Clusters for Cancer dataset\n",
    "plt.scatter(data_transformed[y_kmeans == 0, 0], data_transformed[y_kmeans == 0, 1], s = 100, c = 'purple', label = 'Cluster 1')\n",
    "plt.scatter(data_transformed[y_kmeans == 1, 0], data_transformed[y_kmeans == 1, 1], s = 100, c = 'red', label = 'Cluster 2')\n",
    "plt.scatter(kmeans.cluster_centers_[:, 0], kmeans.cluster_centers_[:,1], s = 100, c = 'yellow', label = 'Centroids')\n",
    "#Legend\n",
    "plt.legend(bbox_to_anchor=(1.05, 1), loc=2)"
   ]
  },
  {
   "cell_type": "code",
   "execution_count": 52,
   "metadata": {},
   "outputs": [
    {
     "data": {
      "text/plain": [
       "<matplotlib.legend.Legend at 0x29812dda400>"
      ]
     },
     "execution_count": 52,
     "metadata": {},
     "output_type": "execute_result"
    },
    {
     "data": {
      "image/png": "[encoded data removed]",
      "text/plain": [
       "<Figure size 432x288 with 1 Axes>"
      ]
     },
     "metadata": {
      "needs_background": "light"
     },
     "output_type": "display_data"
    }
   ],
   "source": [
    "#If we keep the Original Three Clusters for Cancer dataset\n",
    "\n",
    "#Apply KMeans clustering\n",
    "kmeans = KMeans(n_clusters = 3, init = 'k-means++', max_iter = 300, n_init = 10, random_state = 100)\n",
    "y_kmeans = kmeans.fit_predict(data_transformed)\n",
    "\n",
    "#Plot of 3 Clusters\n",
    "plt.scatter(data_transformed[y_kmeans == 0, 0], data_transformed[y_kmeans == 0, 1], s = 100, c = 'purple', label = 'Cluster 1')\n",
    "plt.scatter(data_transformed[y_kmeans == 1, 0], data_transformed[y_kmeans == 1, 1], s = 100, c = 'red', label = 'Cluster 2')\n",
    "plt.scatter(data_transformed[y_kmeans == 2, 0], data_transformed[y_kmeans == 2, 1], s = 100, c = 'grey', label = 'Cluster 3')\n",
    "plt.scatter(kmeans.cluster_centers_[:, 0], kmeans.cluster_centers_[:,1], s = 100, c = 'yellow', label = 'Centroids')\n",
    "#Legend\n",
    "plt.legend(bbox_to_anchor=(1.05, 1), loc=2)"
   ]
  },
  {
   "cell_type": "code",
   "execution_count": 84,
   "metadata": {},
   "outputs": [
    {
     "name": "stdout",
     "output_type": "stream",
     "text": [
      "Accuracy scored using k-means clustering:  0.7994\n"
     ]
    }
   ],
   "source": [
    " #Accuracy Score of K-Means Algorithm with number of clusters-=2\n",
    "from sklearn.metrics import accuracy_score\n",
    "from sklearn.cluster import KMeans\n",
    "cluster = KMeans(n_clusters = 2)\n",
    "cluster.fit(x)\n",
    "pred = cluster.labels_\n",
    "score = round(accuracy_score(pred, y_kmeans), 4)\n",
    "print('Accuracy scored using k-means clustering: ', score)"
   ]
  },
  {
   "cell_type": "code",
   "execution_count": 85,
   "metadata": {},
   "outputs": [
    {
     "data": {
      "text/plain": [
       "array([[7.24347826, 4.73043478, 5.00869565, 4.47826087, 4.15652174,\n",
       "        8.19130435, 4.94782609, 3.89565217, 1.73043478],\n",
       "       [2.94117647, 1.25113122, 1.36199095, 1.31447964, 2.06108597,\n",
       "        1.27149321, 2.05882353, 1.22171946, 1.07013575],\n",
       "       [7.15079365, 8.37301587, 8.07936508, 6.64285714, 6.50793651,\n",
       "        7.27777778, 6.93650794, 7.71428571, 3.35714286]])"
      ]
     },
     "execution_count": 85,
     "metadata": {},
     "output_type": "execute_result"
    }
   ],
   "source": [
    "#Determining the location of the centroids for the Clusters\n",
    "kmeans.cluster_centers_"
   ]
  },
  {
   "cell_type": "code",
   "execution_count": null,
   "metadata": {},
   "outputs": [],
   "source": []
  }
 ],
 "metadata": {
  "kernelspec": {
   "display_name": "Python 3",
   "language": "python",
   "name": "python3"
  },
  "language_info": {
   "codemirror_mode": {
    "name": "ipython",
    "version": 3
   },
   "file_extension": ".py",
   "mimetype": "text/x-python",
   "name": "python",
   "nbconvert_exporter": "python",
   "pygments_lexer": "ipython3",
   "version": "3.8.3"
  }
 },
 "nbformat": 4,
 "nbformat_minor": 4
}
